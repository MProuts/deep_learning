{
  "nbformat": 4,
  "nbformat_minor": 0,
  "metadata": {
    "colab": {
      "provenance": [],
      "authorship_tag": "ABX9TyPwGggqjT+/znJK1BgWZCpl",
      "include_colab_link": true
    },
    "kernelspec": {
      "name": "python3",
      "display_name": "Python 3"
    },
    "language_info": {
      "name": "python"
    },
    "accelerator": "GPU",
    "gpuClass": "standard"
  },
  "cells": [
    {
      "cell_type": "markdown",
      "metadata": {
        "id": "view-in-github",
        "colab_type": "text"
      },
      "source": [
        "<a href=\"https://colab.research.google.com/github/MProuts/deep_learning/blob/main/chapter_2/notebook_colab.ipynb\" target=\"_parent\"><img src=\"https://colab.research.google.com/assets/colab-badge.svg\" alt=\"Open In Colab\"/></a>"
      ]
    },
    {
      "cell_type": "code",
      "source": [
        "# Grab API key from google drive\n",
        "# ==============================\n",
        "\n",
        "# Import PyDrive and associated libraries.\n",
        "# This only needs to be done once per notebook.\n",
        "# from pydrive.auth import GoogleAuth\n",
        "# from pydrive.drive import GoogleDrive\n",
        "# from google.colab import auth\n",
        "# from oauth2client.client import GoogleCredentials\n",
        "# \n",
        "# # Authenticate and create the PyDrive client.\n",
        "# # This only needs to be done once per notebook.\n",
        "# auth.authenticate_user()\n",
        "# gauth = GoogleAuth()\n",
        "# gauth.credentials = GoogleCredentials.get_application_default()\n",
        "# drive = GoogleDrive(gauth)\n",
        "# \n",
        "# # Download a file based on its file ID.\n",
        "# # A file ID looks like: laggVyWshwcyP6kEI-y_W3P8D26sz\n",
        "# file_id = '1cNg43o1nDnvoc3sVWm2SpGKXZSQ2EQVV'\n",
        "# downloaded = drive.CreateFile({'id': file_id})\n",
        "# key = downloaded.GetContentString().rstrip()"
      ],
      "metadata": {
        "id": "-k9j8otaF1bX"
      },
      "execution_count": null,
      "outputs": []
    },
    {
      "cell_type": "code",
      "execution_count": 2,
      "metadata": {
        "id": "7cFYBKbYC_CY",
        "outputId": "9356f9be-1c11-40d8-e987-38fa9c1b4736",
        "colab": {
          "base_uri": "https://localhost:8080/"
        }
      },
      "outputs": [
        {
          "output_type": "stream",
          "name": "stdout",
          "text": [
            "\u001b[K     |████████████████████████████████| 719 kB 26.8 MB/s \n",
            "\u001b[K     |████████████████████████████████| 4.7 MB 57.7 MB/s \n",
            "\u001b[K     |████████████████████████████████| 1.3 MB 58.3 MB/s \n",
            "\u001b[K     |████████████████████████████████| 365 kB 73.7 MB/s \n",
            "\u001b[K     |████████████████████████████████| 120 kB 72.2 MB/s \n",
            "\u001b[K     |████████████████████████████████| 115 kB 73.0 MB/s \n",
            "\u001b[K     |████████████████████████████████| 212 kB 63.9 MB/s \n",
            "\u001b[K     |████████████████████████████████| 127 kB 69.2 MB/s \n",
            "\u001b[K     |████████████████████████████████| 6.6 MB 58.3 MB/s \n",
            "\u001b[?25hMounted at /content/gdrive\n"
          ]
        }
      ],
      "source": [
        "# Book-specific setup\n",
        "# ===================\n",
        "! [ -e /content ] && pip install -Uqq fastbook\n",
        "import fastbook\n",
        "fastbook.setup_book()\n",
        "from fastbook import *\n",
        "from fastai.vision.widgets import *"
      ]
    },
    {
      "cell_type": "code",
      "source": [
        "imageURLs = search_images_ddg('brussels griffon dog')\n",
        "print(imageURLs)\n",
        "len(imageURLs)"
      ],
      "metadata": {
        "id": "XATockmYEUy3",
        "colab": {
          "base_uri": "https://localhost:8080/"
        },
        "outputId": "c263909d-07b2-4264-f077-bf059b33aa87"
      },
      "execution_count": 22,
      "outputs": [
        {
          "output_type": "stream",
          "name": "stdout",
          "text": [
            "['https://lh5.googleusercontent.com/proxy/hcAQIaw0avmeSKzg_MH06lR8-BDCERJxB1DNYxYgbN8xslqWFQ1h07NoTgOKLfEvy5Ny13yI9Xyyxon2GUHY4gCRAxr3_cHfu9DmwU3E534pm-JYosIXRltLrezmOcJti9nG79_NqJcG-Q=s0-d', 'https://doggiefetch.com/wp-content/uploads/2018/05/Brussel-Griffon-Dog-Breed-min.jpg', 'https://www.europuppy.com/wp-content/uploads/2018/04/KALO16brg180208_F1_24.jpg', 'https://www.holistapet.com/wp-content/uploads/2020/10/brussels-griffon-health.png', 'http://mypetsmart.petsmart-dev.com/sites/default/files/field_image/brussels%20griff%202.jpg', 'http://animalsbreeds.com/wp-content/uploads/2014/06/Brussels-Griffon-2.jpg', 'https://cdn.fotofits.com/petzlover/gallery/img/l/brussels-griffon-757204.jpeg', 'https://www.101dogbreeds.com/wp-content/uploads/2018/09/Brussell-Griffon.jpg', 'https://i.pinimg.com/originals/f8/14/3d/f8143d1f343cebf430db046c6531d593.jpg', 'https://1.bp.blogspot.com/--wdXavuKRBc/V6OmTxACLuI/AAAAAAAAEvM/3zEpDK6fY30oAf9ZY3ZpaJ6PrQxJiGK9QCLcB/s1600/about-Brussels-Griffon-3.jpg', 'http://www.mascotarios.org/wp-content/uploads/2011/09/grifondebruselas.jpg', 'https://i.pinimg.com/736x/12/a8/ed/12a8ed0703f2de49eadd624d6deda11d--english-bulldog-puppies-english-bulldogs.jpg', 'https://fthmb.tqn.com/sBZq9R76qOk2veyy8CwfsRCe4EY=/960x0/filters:no_upscale():max_bytes(150000):strip_icc()/sprout-5a6b7e751d6404003783bdae.jpg', 'https://fthmb.tqn.com/r9J3czNWSk_-I3KmlN-eITg-zUs=/960x0/filters:no_upscale()/Brussels-Stella-GeertMartensRayMurray1-58a484413df78c475889c42d.JPG', 'https://www.thesprucepets.com/thmb/lKtn9nsuESIJktzasRAZSAg_QOU=/724x483/filters:fill(auto,1)/GettyImages-859555748-fcf60478d53a4a67a6a21d1b0ecd1156.jpg', 'https://thedogman.net/wp-content/uploads/2020/10/Screenshot_1-11-1.jpg?x50647', 'https://cdn.fotofits.com/petzlover/gallery/img/l/brussels-griffon-485513.jpg', 'https://pettime.net/wp-content/uploads/2021/03/Brussels-Griffon-11.jpg', 'http://www.smalldogbreeds101.com/wp-content/uploads/Brussels-Griffon.jpg', 'https://naturaldogcompany.com/wp-content/uploads/2016/05/brussels-griffon-petit-brabancon-sitting-on-grass-1030x685.jpg', 'https://petcityhouston.com/wp-content/uploads/2020/04/1647335_800.jpg', 'https://phodography.com/wp-content/uploads/2012/06/Brussels-Griffon-studio-portraits-NYC-4023.jpg', 'https://i.pinimg.com/originals/91/2f/e8/912fe8b4ec1f32ab2e520c0f8c8fcdbe.jpg', 'https://pettime.net/wp-content/uploads/2021/03/Brussels-Griffon-6.jpg', 'http://animalsbreeds.com/wp-content/uploads/2014/06/Brussels-Griffon.jpg', 'https://www.bil-jac.com/media/cellzs13/brussels-griffon-452732371.jpg', 'https://critterculture.mblycdn.com/cc/resized/2020/10/730x487/1084210522.jpg', 'https://cmkt-image-prd.freetls.fastly.net/0.1.0/ps/5330365/1820/2730/m1/fpnw/wm1/epyqafrb94jxh1yf8fqhmfvyv0pz1hatrhcl5pcjae4utw3ouljqqw1fdwiro6he-.jpg?1541529367&s=b9221b90d9c0dd40753189d66f999866', 'http://4.bp.blogspot.com/-_CliShBXElU/UB_g0yMi1SI/AAAAAAAAAYs/4m8cB4rXLC8/s1600/Brussels-Griffon-Puppy.jpg', 'https://i.pinimg.com/originals/1e/91/d5/1e91d5fceb34704ba253528d08a2c7b1.jpg', 'https://cdn.shopify.com/s/files/1/2294/6747/products/DSC_1169_1024x1024.JPG?v=1571727743', 'https://www.thesprucepets.com/thmb/N3wbjth12x1R0K4ri90im4UuGEg=/1500x0/filters:no_upscale():max_bytes(150000):strip_icc()/donniebarko-5a6b7ae8eb97de00379a01c8.jpg', 'https://cdn.fotofits.com/petzlover/gallery/img/l/brussels-griffon-845556.jpg', 'https://phodography.com/wp-content/uploads/2012/06/Brussels-Griffon-studio-portraits-NYC-4024.jpg', 'https://hypoallergenicdog.net/wp-content/uploads/2020/05/Brussels-Griffon-Grooming-Brown.jpg', 'https://s-media-cache-ak0.pinimg.com/736x/94/a1/67/94a1677849ededc7dae2d1786ecbc3ff--griffon-bruxellois-brussels.jpg', 'https://franksvillevet.com/wp-content/uploads/2018/11/brussels-griffon.png', 'https://img.dog-learn.com/dog-breeds/brussels-griffon/images/brussels-griffon-sz3.jpg', 'https://ohmylovelypets.com/wp-content/uploads/2020/04/Brussells-Griffon-head-portrait.jpg', 'https://dgicdplf3pvka.cloudfront.net/2431208/brussels-griffon-puppy-picture-ae371ab9-4f07-496a-9597-cb2dd520790a.jpg', 'https://breederspickpup.com/wp-content/uploads/2020/10/dog-5231419_1920.jpg', 'https://img.thrfun.com/img/089/911/brussels_griffon_x2.jpg', 'https://i1.wp.com/phodography.com/wp-content/uploads/2012/06/Brussels-Griffon-studio-portraits-NYC-4023.jpg?ssl=1', 'https://tythedogguy.com/wp-content/uploads/2015/01/Brussels-Griffon.jpg', 'https://spot-and-tango.s3.amazonaws.com/production/media/Brussels_Griffon_2019-08-29T202924.jpg', 'https://www.europuppy.com/wp-content/uploads/2018/07/KREM07beg180612_M3_10.jpg', 'http://puppydogweb.com/gallery/brusselsgriffons/brusselsgriffon_carroll.JPG', 'https://1.bp.blogspot.com/-mvQpqYY17jw/V6OhoJ1PS0I/AAAAAAAAEuc/IO45oD8MTgMLx7-MQmfJAzmuF7QLO8v8wCLcB/s1600/about-Brussels-Griffon.jpg', 'https://www.k9rl.com/wp-content/uploads/2016/01/Brussels-Griffons-dog-breed-information-768x860.jpg', 'https://www.dogs.co.uk/wp-content/uploads/Brussels-Griffon-groomed-953624782-1.jpg', 'https://www.puppyarea.com/wp-content/uploads/2020/08/Brussels-Griffon-3.jpg', 'https://dgicdplf3pvka.cloudfront.net/2561723/brussels-griffon-puppy-picture-39dd68d7-4db5-4219-8ec7-e511b687821b.jpg', 'https://dogbreeds10.com/wp-content/uploads/2019/02/Griffonshire-Full-Grown-e1550347841389.jpg', 'https://phodography.com/wp-content/uploads/2012/06/Brussels-Griffon-studio-portraits-NYC-3908.jpg', 'https://fthmb.tqn.com/22rihoBHnC7ZqZc0ZgLVc7JIfuY=/960x0/filters:no_upscale()/carsalesman-5a6b9d59c5542e00366cefbf.jpg', 'https://critterfacts.com/wp-content/uploads/2020/06/Griffon-puppy-brussels.jpg', 'https://i.pinimg.com/originals/4c/cf/4f/4ccf4f457fcc9eaa494772e7d474833b.jpg', 'https://thedogman.net/wp-content/uploads/2020/09/Brussels-Griffon-27-768x611.jpg', 'https://critterfacts.com/wp-content/uploads/2018/11/black-and-tan-Brussels-Griffon-Dog.jpg', 'https://fetchempuppies.com/wp-content/uploads/2019/09/Brussels-Griffon-Breed-Iconic-Image.jpg', 'https://i.pinimg.com/originals/c2/16/31/c216318cbc7c3f6b3fc07ab090da277d.jpg', 'https://i.pinimg.com/originals/ef/d3/d0/efd3d05f2c61c70550b88a916e9c30f3.jpg', 'http://stories.barkpost.com/wp-content/uploads/2015/12/Untitled10.jpg', 'https://st3.depositphotos.com/3325813/17860/i/950/depositphotos_178600974-stock-photo-dog-portrait-brussels-griffon-griffon.jpg', 'https://fthmb.tqn.com/H6-I-GF5CpODpodba89bXi03Ds4=/960x0/filters:no_upscale():max_bytes(150000):strip_icc()/gogo-5a6ba1498e1b6e003721cb9a.jpg', 'https://www.101dogbreeds.com/wp-content/uploads/2018/09/Brussels-Griffon-Mix.jpg', 'https://i.pinimg.com/originals/13/a0/71/13a071e9626f47cc55eb5f6decfa66fc.jpg', 'https://dgicdplf3pvka.cloudfront.net/2431208/brussels-griffon-puppy-picture-61abf033-15a3-475b-afe9-2d8caa6c25bf.jpg', 'https://www.dogzone.com/images/breeds/griffon-bruxellois-800.jpg', 'https://3.bp.blogspot.com/-pwUWubUofTQ/V6OoM9qH43I/AAAAAAAAEvg/AImIEF2kyEYLMu6p_mnMQEDoRQhqoJ8VgCLcB/s1600/Brussels-Griffon.jpg', 'https://breedadvisor.com/wp-content/uploads/2020/04/brussels-griffon-header.gif', 'https://images.ctfassets.net/aynow2efrlx4/74QnL6bRufExIaSgUYYACv/1fb802d9301d0c170fcb87106f7b597c/Brussels-Griffons-puppy.jpg?w=1000&h=1000', 'https://petrescuereport.com/wp-content/uploads/2016/12/Brussels-puppy.jpg', 'https://www.fiveminutesspare.com/dogs/wp-content/uploads/sites/69/2019/12/shutterstock_1045352002.jpg', 'https://petyourdog.com/wp-content/uploads/2021/05/1330409344~Brussels_Griffon_looking_at_the_camera.jpg', 'https://www.k9rl.com/wp-content/uploads/2016/01/Brussels-Griffon-Rough-Brussels-Griffon-768x836.jpg', 'http://mypetsmart.petsmart-dev.com/sites/default/files/field_image/brussels%20griff%201.jpg', 'https://images.fineartamerica.com/images/artworkimages/mediumlarge/2/1-portrait-of-a-brussels-griffon-dog-panoramic-images.jpg', 'https://i.pinimg.com/originals/88/4e/94/884e94b06f69b6b7f3c80e88608dda3e.jpg', 'http://www.dogbreedstandards.com/wp-content/uploads/2012/01/Brussels-Griffon.jpg', 'https://www.101dogbreeds.com/wp-content/uploads/2018/09/Brussels-Griffon-Puppies.jpg', 'http://teacupspuppies.com/wp-content/uploads/2016/08/Brussels-1.png', 'https://vitalcute.com/wp-content/uploads/Brussels-Griffon-Dog-4.jpg', 'https://assets.rbl.ms/10678839/980x.png', 'https://i.pinimg.com/originals/08/fd/0a/08fd0a9ed8ff542100fa4dbd4b86530e.jpg', 'http://farm6.staticflickr.com/5258/5461664852_9c13ebe41e_z.jpg', 'https://stat.ameba.jp/user_images/20160720/23/van-der-rohe/cb/03/j/o0800060013702536043.jpg?caw=800', 'https://www.thesprucepets.com/thmb/9hSStxwacHxYLpb04Tjhpwtxfy0=/1280x853/filters:fill(auto,1)/Brussels-Griffon-148258252-resized-58a477815f9b58819c9002e7.jpg', 'https://www.whatsyourmuttdna.com/wp-content/uploads/Brussels-Griffon.jpeg', 'https://www.thepaws.net/wp-content/uploads/2018/12/Brussels-Griffon-dog-3.jpg', 'https://www.animalkingdomaz.com/wp-content/uploads/Brussels-Griffon.jpg', 'https://www.101dogbreeds.com/wp-content/uploads/2018/09/Griffon-Bruxellois-Puppy.jpg', 'https://doglime.com/wp-content/uploads/2020/11/Brussels-Griffon-Puppy.-min-768x576.jpg', 'https://pawsnpups.com/wp-content/themes/PNP/images/breeds/Brussels_Griffon.jpeg', 'https://fthmb.tqn.com/oGkTXEBfmc0XHvww_yYrQ7nJ7kQ=/960x0/filters:no_upscale()/brussels-eddie-JoanneTeichman-58a484463df78c475889d23a.jpg', 'https://cdn.shopify.com/s/files/1/1133/5028/files/Brussels_Griffon_senior_dog.jpg?v=1498222608', 'https://cdn.shopify.com/s/files/1/2294/6747/products/DSC_1169.JPG?v=1512161044', 'https://thehappypuppysite.com/wp-content/uploads/2018/05/belgian-griffon-bruxellois-768x1072.jpg', 'https://petpress.net/wp-content/uploads/2019/11/74706196_439368193620308_7191075640516520574_n.jpg', 'https://critterfacts.com/wp-content/uploads/2020/04/Belgian-Griffon.jpg', 'https://hypoallergenicdog.net/wp-content/uploads/2020/05/Brussels-Griffon-On-Grass-980x653.jpg', 'https://vitalcute.com/wp-content/uploads/Brussels-Griffon-Dog-7-768x512.jpg', 'https://www.thesprucepets.com/thmb/DeEnOc3sDVqo_KHFybwBhhD3hBU=/1500x1500/filters:no_upscale():max_bytes(150000):strip_icc()/digby-5a6b78f7eb97de003799b599.jpg', 'https://breedadvisor.com/wp-content/uploads/2020/04/brussels-griffon-exercise.gif', 'https://i.pinimg.com/originals/0f/a8/61/0fa86102dd217d54ee7ea94e16a7eff9.jpg', 'https://fthmb.tqn.com/dc0yXiFOHDqcEYSO4fbNQAJqjb0=/960x0/filters:no_upscale()/kevin-5a748721303713003752cf84.jpg', 'https://s36700.pcdn.co/wp-content/uploads/2016/02/shutterstock_141924505-600x900.jpg.optimal.jpg', 'https://www.trainpetdog.com/wp-content/themes/mytheme/images/about-page-images/Brussels-Griffon-activity.jpg', 'https://breedadvisor.com/wp-content/uploads/2020/04/brussels-griffon-history-1024x528.gif', 'https://i.pinimg.com/originals/32/7f/98/327f98bfee703262c6e1a235a655e8d1.jpg', 'https://www.allaboutdogs.net/wp-content/uploads/2015/10/Brussels-Griffon.jpg', 'https://minepuppy.com/images/breeds/brussels-griffon/Griffon-Bruxellois-breed-minepuppy-242771130.jpg', 'https://cdn.fotofits.com/responsive/1200x1200/petzlover/gallery/img/l/brussels-griffon-908214.jpg', 'https://phodography.com/wp-content/uploads/2012/06/PetPortraits_3875.jpg', 'https://dogs.pedigreeonline.com/images/breeds/dogs/brussels-griffon.jpg', 'https://dgicdplf3pvka.cloudfront.net/469087/brussels-griffon-puppy-picture-66283cf2-cf14-4711-9595-85496ae23489.jpg', 'https://www.mascotarios.org/wp-content/uploads/2011/09/GrifonBelga.jpg', 'https://teacupfamily.eu/wp-content/uploads/2020/11/nat.jpg', 'https://images.wagwalkingweb.com/media/daily_wag/name_guides/%7Bslug%7D/hero/1540860950.43/brussels-griffon-dog-names.jpg', 'https://i.pinimg.com/originals/a2/f2/38/a2f23824e6fe6cdd8b8e4f076c9aaac8.jpg', 'https://dogtemperament.com/wp-content/uploads/2018/09/brussels-griffon1-min.jpg', 'https://fthmb.tqn.com/NaeINwV9MRrTwjK5pquSCJteIE0=/2021x1544/filters:fill(auto,1)/Brussels-Annabelle-GloriaWSmith-58a484005f9b58819caece30.JPG', 'https://i.pinimg.com/originals/32/31/03/323103e7e9132d42bb658ef31f94c2be.jpg', 'https://img3.thepetowners.com/89/2016/1022/e2/1/272392/original.jpg', 'https://www.k9rl.com/wp-content/uploads/2016/01/Brussels-Griffon-Smooth-Brussels-Griffon-768x900.jpg', 'http://animalsbreeds.com/wp-content/uploads/2014/06/Brussels-Griffon-6.jpg', 'https://wagave.com/wp-content/uploads/2020/05/Brussels-Griffon-Dog-Breed-1-1024x683.jpg', 'http://alldogsworld.com/wp-content/uploads/2014/08/brussels-griffon.jpg', 'https://2.bp.blogspot.com/-QjrLKqLzPWY/UMNnOg8T26I/AAAAAAAAAdY/JqUFZGGStRA/s1600/Brussels_Griffon.jpg', 'https://barkpost.com/wp-content/uploads/2015/12/Screen-Shot-2015-12-24-at-83.jpg', 'http://animalsbreeds.com/wp-content/uploads/2014/06/Brussels-Griffon-8.jpg', 'https://www.petful.com/wp-content/uploads/2020/04/brussells-griffon-dog-breed-photo.jpg', 'https://live.staticflickr.com/2924/14360382733_716bffc6c2_b.jpg', 'https://i.pinimg.com/736x/cb/4f/1c/cb4f1ce9afc2078ea71322018388f95a--brussels-griffon-puppies-griffon-bruxellois.jpg', 'https://i.pinimg.com/originals/fa/84/2f/fa842fe6e1d3a09ccec9030c394cb9b1.jpg', 'https://s3.amazonaws.com/cdn-origin-etr.akc.org/wp-content/uploads/2017/11/12212241/Brussels-Griffon-on-White-05.jpg', 'http://3.bp.blogspot.com/-dhV569HcIyg/TyTFAoLe7lI/AAAAAAAAAOc/FVGMTLbcyvU/s1600/Brussels-Griffon-Aggressive-Dog.jpg', 'https://breedadvisor.com/wp-content/uploads/2020/04/brussels-griffon-gallery.gif', 'https://cdn.fotofits.com/petzlover/gallery/img/l/brussels-griffon-485510.jpg', 'https://www.omlet.co.uk/images/cache/1024/683/Dog-Brussels_Griffon-Two_wonderful_little_Brussels_Griffons_sitting_patiently_with_a_friend_in_the_middle.jpg', 'https://i.pinimg.com/originals/54/83/89/5483896b3e537f3340d6f9b9782c2c3c.jpg', 'https://fthmb.tqn.com/-_bJmbLL0jsldzbbx5-4477nWr0=/960x0/filters:no_upscale()/leto-5a74835c0e23d90036e4bb39.jpg', 'https://cdn.fotofits.com/petzlover/gallery/img/l/belgian-griffon-puppies-851543.jpg', 'http://barkpost.com/wp-content/uploads/2015/12/ittystagram15.jpg', 'https://worlddogfinder.com/upload/media/brussels_griffon_dog_YynQoxwbFv.jpg', 'https://www.101dogbreeds.com/wp-content/uploads/2018/09/Brussels-Griffons.jpg', 'https://dgicdplf3pvka.cloudfront.net/2494541/brussels-griffon-puppy-picture-8173c42f-f215-4171-8ccc-2116363e5551.jpg', 'https://www.griffon-brabanson.ru/pictures/puppies/puppy155.jpg', 'https://img.dog-learn.com/dog-breeds/brussels-griffon/brussels-griffon-i2.jpg', 'https://thedogman.net/wp-content/uploads/2020/11/griffon-1.jpg?x50647', 'https://i.pinimg.com/originals/ad/05/54/ad0554eaf5ff00097eff4a1048f1d096.jpg', 'https://1.bp.blogspot.com/-FlCN2611wUs/V6Ol9sVLHYI/AAAAAAAAEvI/RUEFBPudO6A5dzVwJvZjMaMYNjueHlpKwCLcB/s1600/about-Brussels-Griffon-dog.jpg', 'https://i.pinimg.com/originals/cb/75/a3/cb75a343a84dbc124c5d387760ca4f64.jpg', 'https://fthmb.tqn.com/-gh6NHOjmOojOyrpnzzQnVenziY=/960x0/filters:no_upscale()/britmiley-5a748a53ff1b78003771309b.jpg', 'https://petsfeed.co/wp-content/uploads/2020/07/Brussels-Griffon-05.jpg', 'https://vitalcute.com/wp-content/uploads/Brussels-Griffon-Dog-4-1.jpg', 'https://www.jonesnaturalchews.com/wp-content/uploads/2013/02/photo49.jpg', 'https://breedadvisor.com/wp-content/uploads/2020/04/brussels-griffon-gallery-1024x528.gif', 'https://thedogman.net/wp-content/uploads/2020/08/Brussels-Griffon-13.jpg?x60409', 'https://pettime.net/wp-content/uploads/2021/04/Brussels-Griffon-2-4.jpg', 'https://breedadvisor.com/wp-content/uploads/2020/04/brussels-griffon-grooming.gif', 'https://www.doggoneproblems.com/wp-content/uploads/2017/07/Griffin-1.jpg', 'http://cdn.marketplace.akc.org/media/33525/1455075661_8353_1295.jpg', 'https://cdn.fotofits.com/petzlover/gallery/img/l/brussels-griffon-485514.jpg', 'https://i.pinimg.com/originals/67/8c/bf/678cbfdf39a526ad9d0c04dfdcd2a10c.jpg', 'https://farm9.staticflickr.com/8532/8507330536_4fced78e5a_z.jpg', 'http://www.101dogbreeds.com/wp-content/uploads/2016/08/Broodle-Griffon-Dog.jpg', 'https://i.pinimg.com/originals/b5/41/ce/b541ceb77a48fb588c36e701622c463c.jpg', 'https://breedadvisor.com/wp-content/uploads/2020/04/brussels-griffon-size.gif', 'https://teacupfamily.eu/wp-content/uploads/2020/11/yale1.jpg', 'https://i.redd.it/rrmrd6sew0401.jpg', 'http://www.dogbreedplus.com/dog_breeds/images/Brussels-Griffon-Smooth-0125.jpg', 'https://2.bp.blogspot.com/--w_uo9rD5EE/ToQx6EJiERI/AAAAAAAAAdQ/N6oa4P0sTns/s1600/teddy_brusselsgriffon10.jpg_w450.jpg', 'http://stories.barkpost.com/wp-content/uploads/2015/12/Screen-Shot-2015-12-24-at-83-600x601.jpg', 'https://i.pinimg.com/originals/98/38/72/9838723fad82fad79f189fc17a4b34d9.jpg', 'https://breedadvisor.com/wp-content/uploads/2020/04/brussels-griffon-training.gif', 'http://cdn.greatdogsite.com/resources/photos/from_owners/Brussels%20Griffon-1362203147.jpg', 'https://www.thesprucepets.com/thmb/ilMCw_cxQPHjCPjJIWVGFCHt4BE=/1500x1500/filters:no_upscale():max_bytes(150000):strip_icc()/danzig-5a748463a9d4f90037c87747.jpg', 'http://s3.amazonaws.com/cdn-origin-etr.akc.org/wp-content/uploads/2017/10/12192715/Brussels-Griffon.jpg', 'https://www.thesprucepets.com/thmb/Cj67oOKRN_qRUPZu7nC_2awtTy8=/1500x1263/filters:no_upscale():max_bytes(150000):strip_icc()/bonesquad-5a6b7ff543a10300370e4ade.jpg', 'https://cdn.shopify.com/s/files/1/2294/6747/products/DSC_1189.JPG?v=1571727743', 'https://4.bp.blogspot.com/-2wnb5lhKthU/WhuQpVu9i0I/AAAAAAABsVA/eubw_W16JgAAwE6nua8JbHHtbVqu9RyxgCK4BGAYYCw/s1600/Griffon%2BBruxellois%2B-%2BBrussels%2BGriffon%2BDog-739096.png', 'https://breedadvisor.com/wp-content/uploads/2020/04/brussels-griffon-exercise-1024x528.gif', 'https://petpress.net/wp-content/uploads/2019/11/grumpygriffons_73420143_674292186435563_8272202444606773421_n.jpg', 'https://i.pinimg.com/originals/ca/40/cc/ca40cc156deffb3ab0f9545abf78ac84.jpg', 'http://elelur.com/data_images/dog-breeds/brussels-griffon/brussels-griffon-07.jpg', 'https://www.101dogbreeds.com/wp-content/uploads/2018/09/Brussels-Griffon-Puppy.jpg', 'https://www.thepetzone.org/media/ap_media/GFCVNLZGTAGT.jpg', 'https://hairstylecamp.com/wp-content/uploads/2016/06/1-110.jpg', 'https://www.thesprucepets.com/thmb/mLlL6ZR5eaLJZvm7TuVE-in4QTc=/1500x1500/filters:no_upscale():max_bytes(150000):strip_icc()/miley-5a74969ba9d4f90037cb5e97.jpg', 'https://petpress.net/wp-content/uploads/2020/02/84496661_508791279833100_8923023907207911413_n1.jpg', 'http://animalsbreeds.com/wp-content/uploads/2014/06/Brussels-Griffon-4.jpg', 'https://i.pinimg.com/originals/3c/21/ad/3c21ad32bf3ca1378626a4d864573825.jpg', 'https://i.pinimg.com/originals/9c/2e/3f/9c2e3fc2ca169ac63cb26629660dac4f.jpg', 'https://fthmb.tqn.com/SzRhM4XzWSvDZ8V7msE9Lx_c9Y4=/960x0/filters:no_upscale()/bonesquad-5a6b7ff543a10300370e4ade.jpg', 'https://www.thesprucepets.com/thmb/KLwm5LGMl7YL-vFrUcaDfR9Zhrw=/1500x1500/filters:no_upscale():max_bytes(150000):strip_icc()/ewokbaby-5a74810da9d4f90037c8041c.jpg', 'https://www.europuppy.com/wp-content/uploads/2018/04/KALO16brg180208_F1_24-952x750.jpg', 'https://i.pinimg.com/736x/bc/bc/7c/bcbc7c54852506049d4d045b422b216d--brussels-griffon-puppies-brussel-griffon.jpg', 'https://www.rover.com/blog/wp-content/uploads/2017/09/800_9559-1024x1024.jpg', 'https://bowwowinsurance.com.au/wp-content/uploads/2018/10/shutterstock_134935958.jpg']\n"
          ]
        },
        {
          "output_type": "execute_result",
          "data": {
            "text/plain": [
              "200"
            ]
          },
          "metadata": {},
          "execution_count": 22
        }
      ]
    },
    {
      "cell_type": "code",
      "source": [
        "dest = 'images/brussels griffon.jpg'\n",
        "download_url(imageURLs[2], dest)\n",
        "image = Image.open(dest)\n",
        "image.to_thumb(128, 128)"
      ],
      "metadata": {
        "id": "cV5EAkHONLFY",
        "colab": {
          "base_uri": "https://localhost:8080/",
          "height": 138
        },
        "outputId": "6c36fdab-a13b-4813-aad7-badba4d5f29c"
      },
      "execution_count": 23,
      "outputs": [
        {
          "output_type": "display_data",
          "data": {
            "text/plain": [
              "<IPython.core.display.HTML object>"
            ],
            "text/html": [
              "\n",
              "<style>\n",
              "    /* Turns off some styling */\n",
              "    progress {\n",
              "        /* gets rid of default border in Firefox and Opera. */\n",
              "        border: none;\n",
              "        /* Needs to be in here for Safari polyfill so background images work as expected. */\n",
              "        background-size: auto;\n",
              "    }\n",
              "    progress:not([value]), progress:not([value])::-webkit-progress-bar {\n",
              "        background: repeating-linear-gradient(45deg, #7e7e7e, #7e7e7e 10px, #5c5c5c 10px, #5c5c5c 20px);\n",
              "    }\n",
              "    .progress-bar-interrupted, .progress-bar-interrupted::-webkit-progress-bar {\n",
              "        background: #F44336;\n",
              "    }\n",
              "</style>\n"
            ]
          },
          "metadata": {}
        },
        {
          "output_type": "display_data",
          "data": {
            "text/plain": [
              "<IPython.core.display.HTML object>"
            ],
            "text/html": [
              "\n",
              "    <div>\n",
              "      <progress value='147456' class='' max='142622' style='width:300px; height:20px; vertical-align: middle;'></progress>\n",
              "      103.39% [147456/142622 00:00&lt;00:00]\n",
              "    </div>\n",
              "    "
            ]
          },
          "metadata": {}
        },
        {
          "output_type": "execute_result",
          "data": {
            "text/plain": [
              "<PIL.Image.Image image mode=RGB size=128x101>"
            ],
            "image/png": "[encoded data removed]"
          },
          "metadata": {},
          "execution_count": 23
        }
      ]
    },
    {
      "cell_type": "code",
      "source": [
        "# !rm -rf breeds"
      ],
      "metadata": {
        "id": "aXXpHlKhayzC"
      },
      "execution_count": 31,
      "outputs": []
    },
    {
      "cell_type": "code",
      "source": [
        "dog_breeds = 'brussels griffon', 'chihuahua', 'havanese'\n",
        "path = Path('breeds')\n",
        "if not path.exists():\n",
        "    path.mkdir()\n",
        "    for breed in dog_breeds:\n",
        "        dest = (path/breed)\n",
        "        dest.mkdir(exist_ok=True)\n",
        "        imageURLs = search_images_ddg(f'{breed} dog')\n",
        "        download_images(dest, urls=imageURLs)"
      ],
      "metadata": {
        "id": "bSSRbipud0ol"
      },
      "execution_count": 32,
      "outputs": []
    },
    {
      "cell_type": "code",
      "source": [
        "filenames = get_image_files(path)\n",
        "filenames"
      ],
      "metadata": {
        "id": "rZOv4Pf7fTI1"
      },
      "execution_count": null,
      "outputs": []
    },
    {
      "cell_type": "code",
      "source": [
        "failed = verify_images(filenames)\n",
        "len(failed)"
      ],
      "metadata": {
        "id": "qZ-FB0iDfk4s",
        "colab": {
          "base_uri": "https://localhost:8080/"
        },
        "outputId": "56df6b09-56b2-4e43-8cf8-761e3313c00f"
      },
      "execution_count": 35,
      "outputs": [
        {
          "output_type": "execute_result",
          "data": {
            "text/plain": [
              "7"
            ]
          },
          "metadata": {},
          "execution_count": 35
        }
      ]
    },
    {
      "cell_type": "code",
      "source": [
        "failed.map(Path.unlink)"
      ],
      "metadata": {
        "id": "GWFvVbcHfvRC",
        "colab": {
          "base_uri": "https://localhost:8080/"
        },
        "outputId": "ea74dded-c7b5-4643-8427-402a07f69204"
      },
      "execution_count": 36,
      "outputs": [
        {
          "output_type": "execute_result",
          "data": {
            "text/plain": [
              "(#7) [None,None,None,None,None,None,None]"
            ]
          },
          "metadata": {},
          "execution_count": 36
        }
      ]
    },
    {
      "cell_type": "code",
      "source": [
        "# A DataBlock is a template for creating DataLoaders\n",
        "dogs = DataBlock(\n",
        "    # Dependent variable is an image, dependent variable is a category (breed)\n",
        "    blocks=(ImageBlock, CategoryBlock),\n",
        "    # Function to use for fetching image files (takes path argument)\n",
        "    # The path argument is specified when we create an instance:\n",
        "    #   dataloaders = dogs.dataloaders(path)\n",
        "    get_items=get_image_files,\n",
        "    # Use 20% of data selected randomly as validation set,\n",
        "    # use the same 20% across runs by specifying seed\n",
        "    splitter=RandomSplitter(valid_pct=0.2, seed=42),\n",
        "    # Use file's direcotry name as dependent variable\n",
        "    get_y=parent_label,\n",
        "    # To run images through model in paralell, they all must be of the same size\n",
        "    item_tfms=Resize(128)\n",
        ")"
      ],
      "metadata": {
        "id": "4LT7JT4vf78a"
      },
      "execution_count": null,
      "outputs": []
    },
    {
      "cell_type": "code",
      "source": [
        "dls = dogs.dataloaders(path)"
      ],
      "metadata": {
        "id": "iRh7dHqCqbpz"
      },
      "execution_count": null,
      "outputs": []
    },
    {
      "cell_type": "code",
      "source": [
        "dls.valid.show_batch(max_n=4, nrows=1)"
      ],
      "metadata": {
        "id": "PD5345ieqvRr"
      },
      "execution_count": null,
      "outputs": []
    },
    {
      "cell_type": "code",
      "source": [
        "# Randomly select a cropped portion of the image for each epoch\n",
        "# Select at least 30% of the image\n",
        "dogs = dogs.new(item_tfms=RandomResizedCrop(128, min_scale=0.3))\n",
        "dls = dogs.dataloaders(path)\n",
        "dls.train.show_batch(max_n=4, nrows=1, unique=True)"
      ],
      "metadata": {
        "id": "yBtDufOwsLID"
      },
      "execution_count": null,
      "outputs": []
    },
    {
      "cell_type": "code",
      "source": [
        "# aug_transforms provides standard set of data augmentations\n",
        "# note that we switched back to Resize and did twice as much augmenting\n",
        "# to make the output clearer for this example\n",
        "dogs = dogs.new(item_tfms=Resize(128), batch_tfms=aug_transforms(mult=2))\n",
        "dls = dogs.dataloaders(path)\n",
        "dls.train.show_batch(max_n=8, nrows=2, unique=True)"
      ],
      "metadata": {
        "id": "VBwmsjpPttNF"
      },
      "execution_count": null,
      "outputs": []
    },
    {
      "cell_type": "code",
      "source": [
        "dogs = dogs.new(\n",
        "    item_tfms=RandomResizedCrop(224, min_scale=0.5),\n",
        "    batch_tfms=aug_transforms())\n",
        "dls=dogs.dataloaders(path)"
      ],
      "metadata": {
        "id": "28X_-9iOwEIQ"
      },
      "execution_count": null,
      "outputs": []
    },
    {
      "cell_type": "code",
      "source": [
        "learn = vision_learner(dls, resnet18, metrics=error_rate)\n",
        "learn.fine_tune(4)"
      ],
      "metadata": {
        "id": "LsYaud5BxPgm"
      },
      "execution_count": null,
      "outputs": []
    },
    {
      "cell_type": "code",
      "source": [
        "interp = ClassificationInterpretation.from_learner(learn)\n",
        "interp.plot_confusion_matrix()"
      ],
      "metadata": {
        "id": "cayxOhSby5QN"
      },
      "execution_count": null,
      "outputs": []
    },
    {
      "cell_type": "code",
      "source": [
        "interp.plot_top_losses(5, nrows=5)"
      ],
      "metadata": {
        "id": "e5ACXenIzOXB"
      },
      "execution_count": null,
      "outputs": []
    },
    {
      "cell_type": "code",
      "source": [
        "cleaner = ImageClassifierCleaner(learn)\n",
        "cleaner"
      ],
      "metadata": {
        "id": "Et9hLtbX0u3K"
      },
      "execution_count": null,
      "outputs": []
    },
    {
      "cell_type": "code",
      "source": [
        "learn.export()"
      ],
      "metadata": {
        "id": "xTbjwEHB1m1p"
      },
      "execution_count": null,
      "outputs": []
    },
    {
      "cell_type": "code",
      "source": [
        "path = Path()\n",
        "path.ls(file_exts='.pkl')"
      ],
      "metadata": {
        "id": "r6pRFIIb1z1B"
      },
      "execution_count": null,
      "outputs": []
    },
    {
      "cell_type": "code",
      "source": [
        "learn_inf = load_learner(path/'export.pkl')"
      ],
      "metadata": {
        "id": "r4n_6twA2Kxt"
      },
      "execution_count": null,
      "outputs": []
    },
    {
      "cell_type": "code",
      "source": [
        "learn_inf.predict('images/brussels griffon dog.jpg')"
      ],
      "metadata": {
        "id": "1IgfTqY02R3R"
      },
      "execution_count": null,
      "outputs": []
    },
    {
      "cell_type": "code",
      "source": [
        "learn_inf.dls.vocab"
      ],
      "metadata": {
        "id": "waEJlker2o8x"
      },
      "execution_count": null,
      "outputs": []
    },
    {
      "cell_type": "code",
      "source": [
        "btn_upload = widgets.FileUpload()\n",
        "btn_upload"
      ],
      "metadata": {
        "id": "dikbzXBQ20bT"
      },
      "execution_count": null,
      "outputs": []
    },
    {
      "cell_type": "code",
      "source": [
        "img = PILImage.create(btn_upload.data[-1])"
      ],
      "metadata": {
        "id": "jPWtPjQO3C4u"
      },
      "execution_count": null,
      "outputs": []
    },
    {
      "cell_type": "code",
      "source": [
        "out_p1 = widgets.Output()\n",
        "out_p1.clear_output()\n",
        "with out_p1: display(img.to_thumb(128,128))\n",
        "out_p1"
      ],
      "metadata": {
        "id": "kfcyCtVj31LG"
      },
      "execution_count": null,
      "outputs": []
    },
    {
      "cell_type": "code",
      "source": [
        "pred,pred_idx,probs = learn_inf.predict(img)"
      ],
      "metadata": {
        "id": "V5yrsItE4EZx"
      },
      "execution_count": null,
      "outputs": []
    },
    {
      "cell_type": "code",
      "source": [
        "lbl_pred = widgets.Label()\n",
        "lbl_pred.value = f'Prediction: {pred}; Probability: {probs[pred_idx]:.04f}'\n",
        "lbl_pred"
      ],
      "metadata": {
        "id": "jpCfQvxP4Qa8"
      },
      "execution_count": null,
      "outputs": []
    },
    {
      "cell_type": "code",
      "source": [
        "btn_run = widgets.Button(description='Classify')\n",
        "btn_run"
      ],
      "metadata": {
        "id": "mFKu23dE4ym4"
      },
      "execution_count": null,
      "outputs": []
    },
    {
      "cell_type": "code",
      "source": [
        "def on_click_classify(change):\n",
        "    img = PILImage.create(btn_upload.data[-1])\n",
        "    out_p1.clear_output()\n",
        "    with out_p1: display(img.to_thumb(128,128))\n",
        "    pred,pred_idx,probs = learn_inf.predict(img)\n",
        "    lbl_pred.value = f'Prediction: {pred}; Probability: {probs[pred_idx]:.04f}'\n",
        "    \n",
        "btn_run.on_click(on_click_classify)"
      ],
      "metadata": {
        "id": "n1gI-mX646Uw"
      },
      "execution_count": null,
      "outputs": []
    },
    {
      "cell_type": "code",
      "source": [
        "VBox([widgets.Label('Upload a dog photo:'), btn_upload, btn_run, out_p1, lbl_pred])"
      ],
      "metadata": {
        "id": "9Q0ybq_u6uQN"
      },
      "execution_count": null,
      "outputs": []
    },
    {
      "cell_type": "code",
      "source": [
        "!pip install voila\n",
        "!jupyter serverextension enable --sys-prefix voila"
      ],
      "metadata": {
        "id": "2fUCCAZ27s8Z"
      },
      "execution_count": null,
      "outputs": []
    },
    {
      "cell_type": "code",
      "source": [
        "!cp ./export.pkl gdrive/MyDrive/Colab\\ Notebooks/Practical\\ Deep\\ Learning"
      ],
      "metadata": {
        "id": "XIl62i-MGbJv"
      },
      "execution_count": null,
      "outputs": []
    }
  ]
}